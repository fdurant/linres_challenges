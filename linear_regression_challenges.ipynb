{
 "metadata": {
  "name": "",
  "signature": "sha256:1ae145bf4f53899f93d95e49cad24a7d344cbc98caa23848a9cb36980afd7d2a"
 },
 "nbformat": 3,
 "nbformat_minor": 0,
 "worksheets": [
  {
   "cells": [
    {
     "cell_type": "heading",
     "level": 1,
     "metadata": {},
     "source": [
      "Linear Regression Challenges - Frederik Durant"
     ]
    },
    {
     "cell_type": "heading",
     "level": 3,
     "metadata": {},
     "source": [
      "Challenge 1"
     ]
    },
    {
     "cell_type": "markdown",
     "metadata": {},
     "source": [
      "We are fitting and checking the predictions on the exact same dataset! Divide your data into two sets: a training and a test set (roughly 75% training, %25 test). Fit a model on the training set, check the predictions (by plotting versus actual values) in the test set."
     ]
    },
    {
     "cell_type": "code",
     "collapsed": false,
     "input": [
      "%matplotlib inline\n",
      "\n",
      "import pandas as pd\n",
      "import numpy as np\n",
      "from datetime import datetime\n",
      "\n",
      "movies = pd.read_csv('2013_movies.csv', parse_dates={'Date':['ReleaseDate']})\n",
      "movies['Date'] = movies['Date'].astype(datetime)\n",
      "\n",
      "movies_with_budget = movies.dropna()\n",
      "\n",
      "msk = np.random.rand(len(movies_with_budget)) < 0.75\n",
      "train = movies_with_budget[msk]\n",
      "test = movies_with_budget[~msk]\n",
      "\n",
      "print \"size of training set is %d\" % len(train)\n",
      "print \"size of test set is %d\" % len(test)"
     ],
     "language": "python",
     "metadata": {},
     "outputs": [
      {
       "output_type": "stream",
       "stream": "stdout",
       "text": [
        "size of training set is 65\n",
        "size of test set is 22\n"
       ]
      }
     ],
     "prompt_number": 107
    },
    {
     "cell_type": "code",
     "collapsed": false,
     "input": [
      "# Fit the model on the training set\n",
      "import statsmodels.formula.api as sm\n",
      "\n",
      "train['Ones'] = 1.0\n",
      "\n",
      "X = train[['Budget','Ones']]\n",
      "Y = train['DomesticTotalGross']\n",
      "\n",
      "linmodel = sm.OLS(Y,X).fit()\n",
      "linmodel.summary()"
     ],
     "language": "python",
     "metadata": {},
     "outputs": [
      {
       "html": [
        "<table class=\"simpletable\">\n",
        "<caption>OLS Regression Results</caption>\n",
        "<tr>\n",
        "  <th>Dep. Variable:</th>    <td>DomesticTotalGross</td> <th>  R-squared:         </th> <td>   0.285</td>\n",
        "</tr>\n",
        "<tr>\n",
        "  <th>Model:</th>                    <td>OLS</td>        <th>  Adj. R-squared:    </th> <td>   0.274</td>\n",
        "</tr>\n",
        "<tr>\n",
        "  <th>Method:</th>              <td>Least Squares</td>   <th>  F-statistic:       </th> <td>   25.16</td>\n",
        "</tr>\n",
        "<tr>\n",
        "  <th>Date:</th>              <td>Thu, 22 Jan 2015</td>  <th>  Prob (F-statistic):</th> <td>4.58e-06</td>\n",
        "</tr>\n",
        "<tr>\n",
        "  <th>Time:</th>                  <td>17:13:10</td>      <th>  Log-Likelihood:    </th> <td> -1275.5</td>\n",
        "</tr>\n",
        "<tr>\n",
        "  <th>No. Observations:</th>       <td>    65</td>       <th>  AIC:               </th> <td>   2555.</td>\n",
        "</tr>\n",
        "<tr>\n",
        "  <th>Df Residuals:</th>           <td>    63</td>       <th>  BIC:               </th> <td>   2559.</td>\n",
        "</tr>\n",
        "<tr>\n",
        "  <th>Df Model:</th>               <td>     1</td>       <th>                     </th>     <td> </td>   \n",
        "</tr>\n",
        "<tr>\n",
        "  <th>Covariance Type:</th>       <td>nonrobust</td>     <th>                     </th>     <td> </td>   \n",
        "</tr>\n",
        "</table>\n",
        "<table class=\"simpletable\">\n",
        "<tr>\n",
        "     <td></td>       <th>coef</th>     <th>std err</th>      <th>t</th>      <th>P>|t|</th> <th>[95.0% Conf. Int.]</th> \n",
        "</tr>\n",
        "<tr>\n",
        "  <th>Budget</th> <td>    0.7951</td> <td>    0.159</td> <td>    5.016</td> <td> 0.000</td> <td>    0.478     1.112</td>\n",
        "</tr>\n",
        "<tr>\n",
        "  <th>Ones</th>   <td> 4.846e+07</td> <td> 1.57e+07</td> <td>    3.081</td> <td> 0.003</td> <td>  1.7e+07  7.99e+07</td>\n",
        "</tr>\n",
        "</table>\n",
        "<table class=\"simpletable\">\n",
        "<tr>\n",
        "  <th>Omnibus:</th>       <td>25.781</td> <th>  Durbin-Watson:     </th> <td>   0.682</td>\n",
        "</tr>\n",
        "<tr>\n",
        "  <th>Prob(Omnibus):</th> <td> 0.000</td> <th>  Jarque-Bera (JB):  </th> <td>  45.817</td>\n",
        "</tr>\n",
        "<tr>\n",
        "  <th>Skew:</th>          <td> 1.382</td> <th>  Prob(JB):          </th> <td>1.12e-10</td>\n",
        "</tr>\n",
        "<tr>\n",
        "  <th>Kurtosis:</th>      <td> 6.046</td> <th>  Cond. No.          </th> <td>1.54e+08</td>\n",
        "</tr>\n",
        "</table>"
       ],
       "metadata": {},
       "output_type": "pyout",
       "prompt_number": 108,
       "text": [
        "<class 'statsmodels.iolib.summary.Summary'>\n",
        "\"\"\"\n",
        "                            OLS Regression Results                            \n",
        "==============================================================================\n",
        "Dep. Variable:     DomesticTotalGross   R-squared:                       0.285\n",
        "Model:                            OLS   Adj. R-squared:                  0.274\n",
        "Method:                 Least Squares   F-statistic:                     25.16\n",
        "Date:                Thu, 22 Jan 2015   Prob (F-statistic):           4.58e-06\n",
        "Time:                        17:13:10   Log-Likelihood:                -1275.5\n",
        "No. Observations:                  65   AIC:                             2555.\n",
        "Df Residuals:                      63   BIC:                             2559.\n",
        "Df Model:                           1                                         \n",
        "Covariance Type:            nonrobust                                         \n",
        "==============================================================================\n",
        "                 coef    std err          t      P>|t|      [95.0% Conf. Int.]\n",
        "------------------------------------------------------------------------------\n",
        "Budget         0.7951      0.159      5.016      0.000         0.478     1.112\n",
        "Ones        4.846e+07   1.57e+07      3.081      0.003       1.7e+07  7.99e+07\n",
        "==============================================================================\n",
        "Omnibus:                       25.781   Durbin-Watson:                   0.682\n",
        "Prob(Omnibus):                  0.000   Jarque-Bera (JB):               45.817\n",
        "Skew:                           1.382   Prob(JB):                     1.12e-10\n",
        "Kurtosis:                       6.046   Cond. No.                     1.54e+08\n",
        "==============================================================================\n",
        "\n",
        "Warnings:\n",
        "[1] Standard Errors assume that the covariance matrix of the errors is correctly specified.\n",
        "[2] The condition number is large, 1.54e+08. This might indicate that there are\n",
        "strong multicollinearity or other numerical problems.\n",
        "\"\"\""
       ]
      }
     ],
     "prompt_number": 108
    },
    {
     "cell_type": "markdown",
     "metadata": {},
     "source": [
      "Prediction: we're going to make 48.4 million + 79% of our budget"
     ]
    },
    {
     "cell_type": "code",
     "collapsed": false,
     "input": [
      "from matplotlib import pyplot as plt\n",
      "\n",
      "# Here's a plot of the fitted model against the training data:\n",
      "plt.scatter(train.Budget, train.DomesticTotalGross)\n",
      "plt.title('Budget vs. final box office revenue (TRAINING set)')\n",
      "plt.xlabel('Budget')\n",
      "plt.ylabel('Box Office')\n",
      "\n",
      "plt.plot(train.Budget, linmodel.predict(X), 'r-')\n",
      "plt.show()"
     ],
     "language": "python",
     "metadata": {},
     "outputs": [
      {
       "metadata": {},
       "output_type": "display_data",
       "png": "[encoded data removed]",
       "text": [
        "<matplotlib.figure.Figure at 0x10831d390>"
       ]
      }
     ],
     "prompt_number": 109
    },
    {
     "cell_type": "code",
     "collapsed": false,
     "input": [
      "# Now test the model on the test set (actual vs. predicted values)\n",
      "actual = test['DomesticTotalGross']\n",
      "test['Ones'] = 1.0\n",
      "testBudgets = test[['Budget','Ones']]\n",
      "predicted = linmodel.predict(testBudgets)\n",
      "\n",
      "plt.plot(actual, predicted, 'go')\n",
      "plt.title('Actual vs. predicted box office revenue (TEST set)')\n",
      "plt.xlabel('Actual Box Office Revenue')\n",
      "plt.ylabel('Predicted Box Office Revenue')\n",
      "\n",
      "plt.plot(actual,actual, 'm--', label=\"Ideal Prediction\") # Magenta dashed line\n",
      "plt.show()"
     ],
     "language": "python",
     "metadata": {},
     "outputs": [
      {
       "metadata": {},
       "output_type": "display_data",
       "png": "[encoded data removed]",
       "text": [
        "<matplotlib.figure.Figure at 0x108105710>"
       ]
      }
     ],
     "prompt_number": 110
    },
    {
     "cell_type": "heading",
     "level": 3,
     "metadata": {},
     "source": [
      "Challenge 2"
     ]
    },
    {
     "cell_type": "markdown",
     "metadata": {},
     "source": [
      "Build a model that also uses average director gross as a feature (one of the predictor variables). Fit and evaluate. Would you use this model to predict gross revenues of upcoming movies?"
     ]
    },
    {
     "cell_type": "code",
     "collapsed": false,
     "input": [
      "# Add average director gross as a column\n",
      "moviesGroupedByDirector = movies.groupby('Director')\n",
      "dtgSeriesByDirector = moviesGroupedByDirector['DomesticTotalGross'].mean()\n",
      "print dtgSeriesByDirector.head()"
     ],
     "language": "python",
     "metadata": {},
     "outputs": [
      {
       "output_type": "stream",
       "stream": "stdout",
       "text": [
        "Director\n",
        "Adam McKay           125168368\n",
        "Alan Taylor          206362140\n",
        "Alfonso Cuaron       274092705\n",
        "Andres Muschietti     71628180\n",
        "Andrew Niccol         26627201\n",
        "Name: DomesticTotalGross, dtype: int64\n"
       ]
      }
     ],
     "prompt_number": 111
    },
    {
     "cell_type": "code",
     "collapsed": false,
     "input": [
      "movies_with_budget['AvgDirectorGross'] = [dtgSeriesByDirector[d] for d in movies_with_budget.Director]\n",
      "movies_with_budget[movies_with_budget.DomesticTotalGross != movies_with_budget.AvgDirectorGross].head()"
     ],
     "language": "python",
     "metadata": {},
     "outputs": [
      {
       "html": [
        "<div style=\"max-height:1000px;max-width:1500px;overflow:auto;\">\n",
        "<table border=\"1\" class=\"dataframe\">\n",
        "  <thead>\n",
        "    <tr style=\"text-align: right;\">\n",
        "      <th></th>\n",
        "      <th>Date</th>\n",
        "      <th>Title</th>\n",
        "      <th>Budget</th>\n",
        "      <th>DomesticTotalGross</th>\n",
        "      <th>Director</th>\n",
        "      <th>Rating</th>\n",
        "      <th>Runtime</th>\n",
        "      <th>AvgDirectorGross</th>\n",
        "    </tr>\n",
        "  </thead>\n",
        "  <tbody>\n",
        "    <tr>\n",
        "      <th>18</th>\n",
        "      <td>2013-07-19</td>\n",
        "      <td>        The Conjuring</td>\n",
        "      <td> 20000000</td>\n",
        "      <td> 137400141</td>\n",
        "      <td>      James Wan</td>\n",
        "      <td>     R</td>\n",
        "      <td> 112</td>\n",
        "      <td> 110493294</td>\n",
        "    </tr>\n",
        "    <tr>\n",
        "      <th>41</th>\n",
        "      <td>2013-09-13</td>\n",
        "      <td>  Insidious Chapter 2</td>\n",
        "      <td>  5000000</td>\n",
        "      <td>  83586447</td>\n",
        "      <td>      James Wan</td>\n",
        "      <td> PG-13</td>\n",
        "      <td> 105</td>\n",
        "      <td> 110493294</td>\n",
        "    </tr>\n",
        "    <tr>\n",
        "      <th>49</th>\n",
        "      <td>2013-11-15</td>\n",
        "      <td> The Best Man Holiday</td>\n",
        "      <td> 17000000</td>\n",
        "      <td>  70525195</td>\n",
        "      <td> Malcolm D. Lee</td>\n",
        "      <td>     R</td>\n",
        "      <td> 122</td>\n",
        "      <td>  51270491</td>\n",
        "    </tr>\n",
        "    <tr>\n",
        "      <th>88</th>\n",
        "      <td>2013-04-12</td>\n",
        "      <td>        Scary Movie 5</td>\n",
        "      <td> 20000000</td>\n",
        "      <td>  32015787</td>\n",
        "      <td> Malcolm D. Lee</td>\n",
        "      <td> PG-13</td>\n",
        "      <td>  85</td>\n",
        "      <td>  51270491</td>\n",
        "    </tr>\n",
        "  </tbody>\n",
        "</table>\n",
        "</div>"
       ],
       "metadata": {},
       "output_type": "pyout",
       "prompt_number": 112,
       "text": [
        "         Date                 Title    Budget  DomesticTotalGross  \\\n",
        "18 2013-07-19         The Conjuring  20000000           137400141   \n",
        "41 2013-09-13   Insidious Chapter 2   5000000            83586447   \n",
        "49 2013-11-15  The Best Man Holiday  17000000            70525195   \n",
        "88 2013-04-12         Scary Movie 5  20000000            32015787   \n",
        "\n",
        "          Director Rating  Runtime  AvgDirectorGross  \n",
        "18       James Wan      R      112         110493294  \n",
        "41       James Wan  PG-13      105         110493294  \n",
        "49  Malcolm D. Lee      R      122          51270491  \n",
        "88  Malcolm D. Lee  PG-13       85          51270491  "
       ]
      }
     ],
     "prompt_number": 112
    },
    {
     "cell_type": "markdown",
     "metadata": {},
     "source": [
      "In this small data set, there are only two directors with more than one entry. The small size of the data (and hence training) set makes it rather unlikely that a stable model is being built. Nevertheless, let's build the model anyway on the new training set:"
     ]
    },
    {
     "cell_type": "code",
     "collapsed": false,
     "input": [
      "msk = np.random.rand(len(movies_with_budget)) < 0.75\n",
      "train2 = movies_with_budget[msk]\n",
      "test2 = movies_with_budget[~msk]\n",
      "\n",
      "print \"size of training set is %d\" % len(train2)\n",
      "print \"size of test set is %d\" % len(test2)"
     ],
     "language": "python",
     "metadata": {},
     "outputs": [
      {
       "output_type": "stream",
       "stream": "stdout",
       "text": [
        "size of training set is 58\n",
        "size of test set is 29\n"
       ]
      }
     ],
     "prompt_number": 116
    },
    {
     "cell_type": "code",
     "collapsed": false,
     "input": [
      "train2['Ones'] = 1.0\n",
      "\n",
      "X2 = train2[['Budget','AvgDirectorGross','Ones']]\n",
      "Y2 = train2['DomesticTotalGross']\n",
      "\n",
      "linmodel2 = sm.OLS(Y2,X2).fit()\n",
      "linmodel2.summary()"
     ],
     "language": "python",
     "metadata": {},
     "outputs": [
      {
       "html": [
        "<table class=\"simpletable\">\n",
        "<caption>OLS Regression Results</caption>\n",
        "<tr>\n",
        "  <th>Dep. Variable:</th>    <td>DomesticTotalGross</td> <th>  R-squared:         </th> <td>   0.996</td>\n",
        "</tr>\n",
        "<tr>\n",
        "  <th>Model:</th>                    <td>OLS</td>        <th>  Adj. R-squared:    </th> <td>   0.996</td>\n",
        "</tr>\n",
        "<tr>\n",
        "  <th>Method:</th>              <td>Least Squares</td>   <th>  F-statistic:       </th> <td>   6794.</td>\n",
        "</tr>\n",
        "<tr>\n",
        "  <th>Date:</th>              <td>Thu, 22 Jan 2015</td>  <th>  Prob (F-statistic):</th> <td>1.41e-66</td>\n",
        "</tr>\n",
        "<tr>\n",
        "  <th>Time:</th>                  <td>17:15:56</td>      <th>  Log-Likelihood:    </th> <td> -983.24</td>\n",
        "</tr>\n",
        "<tr>\n",
        "  <th>No. Observations:</th>       <td>    58</td>       <th>  AIC:               </th> <td>   1972.</td>\n",
        "</tr>\n",
        "<tr>\n",
        "  <th>Df Residuals:</th>           <td>    55</td>       <th>  BIC:               </th> <td>   1979.</td>\n",
        "</tr>\n",
        "<tr>\n",
        "  <th>Df Model:</th>               <td>     2</td>       <th>                     </th>     <td> </td>   \n",
        "</tr>\n",
        "<tr>\n",
        "  <th>Covariance Type:</th>       <td>nonrobust</td>     <th>                     </th>     <td> </td>   \n",
        "</tr>\n",
        "</table>\n",
        "<table class=\"simpletable\">\n",
        "<tr>\n",
        "          <td></td>            <th>coef</th>     <th>std err</th>      <th>t</th>      <th>P>|t|</th> <th>[95.0% Conf. Int.]</th> \n",
        "</tr>\n",
        "<tr>\n",
        "  <th>Budget</th>           <td>    0.0070</td> <td>    0.014</td> <td>    0.496</td> <td> 0.622</td> <td>   -0.021     0.035</td>\n",
        "</tr>\n",
        "<tr>\n",
        "  <th>AvgDirectorGross</th> <td>    1.0002</td> <td>    0.010</td> <td>  102.846</td> <td> 0.000</td> <td>    0.981     1.020</td>\n",
        "</tr>\n",
        "<tr>\n",
        "  <th>Ones</th>             <td>-8.977e+05</td> <td> 1.34e+06</td> <td>   -0.671</td> <td> 0.505</td> <td>-3.58e+06  1.78e+06</td>\n",
        "</tr>\n",
        "</table>\n",
        "<table class=\"simpletable\">\n",
        "<tr>\n",
        "  <th>Omnibus:</th>       <td>31.723</td> <th>  Durbin-Watson:     </th> <td>   1.980</td> \n",
        "</tr>\n",
        "<tr>\n",
        "  <th>Prob(Omnibus):</th> <td> 0.000</td> <th>  Jarque-Bera (JB):  </th> <td> 764.852</td> \n",
        "</tr>\n",
        "<tr>\n",
        "  <th>Skew:</th>          <td>-0.293</td> <th>  Prob(JB):          </th> <td>8.21e-167</td>\n",
        "</tr>\n",
        "<tr>\n",
        "  <th>Kurtosis:</th>      <td>20.781</td> <th>  Cond. No.          </th> <td>2.89e+08</td> \n",
        "</tr>\n",
        "</table>"
       ],
       "metadata": {},
       "output_type": "pyout",
       "prompt_number": 117,
       "text": [
        "<class 'statsmodels.iolib.summary.Summary'>\n",
        "\"\"\"\n",
        "                            OLS Regression Results                            \n",
        "==============================================================================\n",
        "Dep. Variable:     DomesticTotalGross   R-squared:                       0.996\n",
        "Model:                            OLS   Adj. R-squared:                  0.996\n",
        "Method:                 Least Squares   F-statistic:                     6794.\n",
        "Date:                Thu, 22 Jan 2015   Prob (F-statistic):           1.41e-66\n",
        "Time:                        17:15:56   Log-Likelihood:                -983.24\n",
        "No. Observations:                  58   AIC:                             1972.\n",
        "Df Residuals:                      55   BIC:                             1979.\n",
        "Df Model:                           2                                         \n",
        "Covariance Type:            nonrobust                                         \n",
        "====================================================================================\n",
        "                       coef    std err          t      P>|t|      [95.0% Conf. Int.]\n",
        "------------------------------------------------------------------------------------\n",
        "Budget               0.0070      0.014      0.496      0.622        -0.021     0.035\n",
        "AvgDirectorGross     1.0002      0.010    102.846      0.000         0.981     1.020\n",
        "Ones             -8.977e+05   1.34e+06     -0.671      0.505     -3.58e+06  1.78e+06\n",
        "==============================================================================\n",
        "Omnibus:                       31.723   Durbin-Watson:                   1.980\n",
        "Prob(Omnibus):                  0.000   Jarque-Bera (JB):              764.852\n",
        "Skew:                          -0.293   Prob(JB):                    8.21e-167\n",
        "Kurtosis:                      20.781   Cond. No.                     2.89e+08\n",
        "==============================================================================\n",
        "\n",
        "Warnings:\n",
        "[1] Standard Errors assume that the covariance matrix of the errors is correctly specified.\n",
        "[2] The condition number is large, 2.89e+08. This might indicate that there are\n",
        "strong multicollinearity or other numerical problems.\n",
        "\"\"\""
       ]
      }
     ],
     "prompt_number": 117
    },
    {
     "cell_type": "code",
     "collapsed": false,
     "input": [
      "# Now evaluate the model on the test set (actual vs. predicted values)\n",
      "actual2 = test2['DomesticTotalGross']\n",
      "test2['Ones'] = 1.0\n",
      "testBudgets2 = test2[['Budget','AvgDirectorGross','Ones']]\n",
      "predicted2 = linmodel2.predict(testBudgets2)\n",
      "\n",
      "plt.plot(actual2, predicted2, 'go')\n",
      "plt.title('Actual vs. predicted box office revenue (TEST set)')\n",
      "plt.xlabel('Actual Box Office Revenue')\n",
      "plt.ylabel('Predicted Box Office Revenue')\n",
      "\n",
      "plt.plot(actual2,actual2, 'm--', label=\"Ideal Prediction\") # Magenta dashed line\n",
      "plt.show()"
     ],
     "language": "python",
     "metadata": {},
     "outputs": [
      {
       "metadata": {},
       "output_type": "display_data",
       "png": "[encoded data removed]",
       "text": [
        "<matplotlib.figure.Figure at 0x108131c10>"
       ]
      }
     ],
     "prompt_number": 118
    },
    {
     "cell_type": "markdown",
     "metadata": {},
     "source": [
      "Given the tight correlation between the average director gross and the director feature itself, we have introduced a so-called predictor feature that is in most cases identical to the target variable (symptom: the P value of AvgDirectorGross is 0.000). This obviously does not make a lot of sense, since there is almost nothing left to predict or to learn. By introducing this new feature, we are also hugely overfitting the model to the training data."
     ]
    }
   ],
   "metadata": {}
  }
 ]
}